{
    "cells": [
        {
            "cell_type": "code",
            "execution_count": null,
            "metadata": {
                "azdata_cell_guid": "40d5fa7d-0520-4936-be32-7715e2c88ee1",
                "language": "sql",
                "tags": [],
                "vscode": {
                    "languageId": "powershell"
                }
            },
            "outputs": [],
            "source": [
                "SELECT p.FullName,\n",
                "    SUBSTRING(FullName, 1, CHARINDEX(' ',FullName)) AS First_Name,\n",
                "    SUBSTRING(FullName,CHARINDEX(' ',FullName),20) AS Last_Name,\n",
                "IIF(IsSalesperson=1,'Sales Person',IIF(IsEmployee=1,'Employee','Customer')) as [Contact Type]\n",
                "FROM Application.People p\n",
                ";"
            ]
        },
        {
            "cell_type": "code",
            "execution_count": null,
            "metadata": {
                "azdata_cell_guid": "555573b5-efcd-4ef6-8d90-4dbf32c146cd",
                "language": "sql",
                "vscode": {
                    "languageId": "powershell"
                }
            },
            "outputs": [],
            "source": [
                "Select count(orderID)\n",
                "from Sales.Orders\n",
                "where DatePart(yyyy,OrderDate)='2014'"
            ]
        },
        {
            "cell_type": "code",
            "execution_count": null,
            "metadata": {
                "azdata_cell_guid": "1b557a82-35c8-483f-85da-35d0193b3ea6",
                "language": "sql",
                "vscode": {
                    "languageId": "powershell"
                }
            },
            "outputs": [],
            "source": [
                "select top 5 * FROM\n",
                "Sales.Invoices"
            ]
        },
        {
            "cell_type": "code",
            "execution_count": null,
            "metadata": {
                "azdata_cell_guid": "011c8eb6-46ec-4629-b460-95a448886614",
                "language": "sql",
                "vscode": {
                    "languageId": "powershell"
                }
            },
            "outputs": [],
            "source": [
                "Select * FROM\n",
                "(Select LineTotal, Ntile(100) over (order by LineTotal Desc) as NthTile\n",
                "from\n",
                "(Select OL.*, OL.Quantity * OL.UnitPrice as LineTotal\n",
                "From Sales.OrderLines OL) as source) as NthTileResult\n",
                "Where NthTile =3"
            ]
        },
        {
            "cell_type": "code",
            "execution_count": null,
            "metadata": {
                "azdata_cell_guid": "af06727c-a6b7-4f48-acf9-8ee6d7cd75f2",
                "language": "sql",
                "vscode": {
                    "languageId": "powershell"
                }
            },
            "outputs": [],
            "source": [
                "-- in sql server, result is always a set \n",
                "-- this set is either row level or group(summary) level, never both at the same time\n",
                "\n",
                "SELECT OrderID, Sum(Quantity*UnitPrice) as \"OrderTotal\", Count(OrderLineID) as TotalOrders\n",
                "--can ONLY container 1 group by expression, 2 aggregate result\n",
                "FROM Sales.OrderLines\n",
                "--where filters row by row, it takes place before the grouping\n",
                "Group By OrderID\n",
                "Having Sum(Quantity*UnitPrice) > 5000"
            ]
        },
        {
            "cell_type": "code",
            "execution_count": null,
            "metadata": {
                "azdata_cell_guid": "61bd379c-5dee-4749-af16-d629c498a715",
                "language": "sql",
                "tags": [],
                "vscode": {
                    "languageId": "powershell"
                }
            },
            "outputs": [],
            "source": [
                "-- Simplified version of above:\n",
                "SELECT OrderID, Sum(Quantity * UnitPrice) as OrderTotal\n",
                "FROM Sales.OrderLines\n",
                "-- group by was necessary\n",
                "Group By orderID"
            ]
        },
        {
            "cell_type": "code",
            "execution_count": null,
            "metadata": {
                "azdata_cell_guid": "5dcc56e0-5912-4680-97e3-4a21677933a2",
                "language": "sql",
                "vscode": {
                    "languageId": "sql"
                }
            },
            "outputs": [],
            "source": [
                "SELECT CustomerID, '2014' as Year,Datepart(MONTH, TransactionDate) as MONTH,\n",
                "Count(CustomerTransactionID) as \"Count\",\n",
                "Sum(TransactionAmount) as \"Total\"\n",
                "FROM Sales.CustomerTransactions\n",
                "where DatePart(yyyy,TransactionDate)='2015'\n",
                "group by CustomerID, Datepart(month, TransactionDate)\n",
                "Order by 1,2,3 Desc"
            ]
        },
        {
            "cell_type": "code",
            "execution_count": null,
            "metadata": {
                "azdata_cell_guid": "1890fef0-c7ac-4b23-a804-ccfb1048381d",
                "language": "sql",
                "vscode": {
                    "languageId": "sql"
                }
            },
            "outputs": [],
            "source": [
                "-- product a report of customer and their categories\n",
                "-- contoso   wholesaler\n",
                "--fabrikam  warehouse\n",
                "--sales.customer    sales.customercategories\n",
                "\n",
                "select CustomerName,CustomerCategoryName\n",
                "\n",
                "from Sales.Customers a join Sales.customercategories b on a.CustomerCategoryID = b.CustomerCategoryID "
            ]
        },
        {
            "cell_type": "code",
            "execution_count": null,
            "metadata": {
                "azdata_cell_guid": "301f57ca-92f1-49f6-a25b-01f5372b316a",
                "language": "sql",
                "tags": [],
                "vscode": {
                    "languageId": "sql"
                }
            },
            "outputs": [],
            "source": [
                "select sp.StateProvinceName, count(s.SupplierID) as supplierCount,COUNT(cust.customerID) as customerCount\n",
                "FROM Application.StateProvinces sp LEFT JOIN Application.Cities c on sp.StateProvinceID = c. StateProvinceID\n",
                "left Join Purchasing.Suppliers s on c.CityID = s.PostalCityID\n",
                "left join Sales.Customers cust on c.CityID = cust.PostalCityID\n",
                "Group by sp.StateProvinceName"
            ]
        }
    ],
    "metadata": {
        "kernelspec": {
            "display_name": "Python 3",
            "language": "python",
            "name": "python3"
        },
        "language_info": {
            "codemirror_mode": {
                "name": "ipython",
                "version": 3
            },
            "file_extension": ".py",
            "mimetype": "text/x-python",
            "name": "python",
            "nbconvert_exporter": "python",
            "pygments_lexer": "ipython3",
            "version": "3.11.4"
        }
    },
    "nbformat": 4,
    "nbformat_minor": 2
}
